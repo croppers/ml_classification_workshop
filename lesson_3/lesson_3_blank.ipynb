{
 "cells": [
  {
   "attachments": {},
   "cell_type": "markdown",
   "metadata": {},
   "source": [
    "# Learning Markov Decision Process (MDP) Algorithm with the MDPToolBox Python Package\n",
    "\n",
    "The MDPToolBox can be installed using pip"
   ]
  },
  {
   "cell_type": "code",
   "execution_count": 2,
   "metadata": {},
   "outputs": [
    {
     "name": "stdout",
     "output_type": "stream",
     "text": [
      "Requirement already satisfied: pymdptoolbox in /Users/stephencropper/anaconda3/lib/python3.10/site-packages (4.0b3)\n",
      "Requirement already satisfied: numpy in /Users/stephencropper/anaconda3/lib/python3.10/site-packages (from pymdptoolbox) (1.23.5)\n",
      "Requirement already satisfied: scipy in /Users/stephencropper/anaconda3/lib/python3.10/site-packages (from pymdptoolbox) (1.10.0)\n"
     ]
    }
   ],
   "source": [
    "!pip install pymdptoolbox"
   ]
  },
  {
   "cell_type": "code",
   "execution_count": 3,
   "metadata": {},
   "outputs": [],
   "source": [
    "import mdptoolbox.example\n",
    "import mdptoolbox.mdp\n",
    "import numpy as np"
   ]
  },
  {
   "attachments": {},
   "cell_type": "markdown",
   "metadata": {},
   "source": [
    "## Forest Management Example\n",
    "* Trees can be either young, middle-aged, or old (states = 0, 1, 2)\n",
    "* Each year, the trees get one stage older (S+1).\n",
    "* Each year, there is a 10% chance that the whole forest burns down!\n",
    "* If the forest burns down, you get nothing.\n",
    "* If you cut down the trees, you get 0 points for a young one, 1 point for a middle-aged one, and 2 points for an old one.\n",
    "* If the forest reaches its oldest state, and you do not cut, you will receive 4 points!\n",
    "\n",
    "What is the best strategy, given these facts?"
   ]
  },
  {
   "cell_type": "code",
   "execution_count": 5,
   "metadata": {},
   "outputs": [],
   "source": [
    "# inputs\n",
    "'''\n",
    "S : is the number of states\n",
    "r1 : is the reward for the first action (keep/wait)\n",
    "r2 : is the reward for the second action (cut)\n",
    "p : probability of a wildfire\n",
    "'''\n",
    "# outputs\n",
    "'''\n",
    "P : is the probability transition matrix (A, S, S)\n",
    "R : is the reward matrix (S, A)\n",
    "'''\n",
    "\n",
    "P, R = mdptoolbox.example.forest(S=3, r1=4, r2=2, p=0.1)"
   ]
  },
  {
   "attachments": {},
   "cell_type": "markdown",
   "metadata": {},
   "source": [
    "Exploring the probability transition matrix"
   ]
  },
  {
   "cell_type": "code",
   "execution_count": 6,
   "metadata": {},
   "outputs": [
    {
     "data": {
      "text/plain": [
       "array([[[0.1, 0.9, 0. ],\n",
       "        [0.1, 0. , 0.9],\n",
       "        [0.1, 0. , 0.9]],\n",
       "\n",
       "       [[1. , 0. , 0. ],\n",
       "        [1. , 0. , 0. ],\n",
       "        [1. , 0. , 0. ]]])"
      ]
     },
     "execution_count": 6,
     "metadata": {},
     "output_type": "execute_result"
    }
   ],
   "source": [
    "P"
   ]
  },
  {
   "cell_type": "code",
   "execution_count": 7,
   "metadata": {},
   "outputs": [
    {
     "data": {
      "text/plain": [
       "array([[0.1, 0.9, 0. ],\n",
       "       [0.1, 0. , 0.9],\n",
       "       [0.1, 0. , 0.9]])"
      ]
     },
     "execution_count": 7,
     "metadata": {},
     "output_type": "execute_result"
    }
   ],
   "source": [
    "P[0] # P[0] is the transition matrix for action 0 (keep/wait)"
   ]
  },
  {
   "cell_type": "code",
   "execution_count": 8,
   "metadata": {},
   "outputs": [
    {
     "name": "stdout",
     "output_type": "stream",
     "text": [
      "0.9\n"
     ]
    }
   ],
   "source": [
    "'''\n",
    "ex: what is the probability that a forest in its youngest state\n",
    " will advance to the next oldest (middle-aged state), if we wait?\n",
    "'''\n",
    "print(P[0][0][1]) # 0.9"
   ]
  },
  {
   "cell_type": "code",
   "execution_count": 9,
   "metadata": {},
   "outputs": [
    {
     "data": {
      "text/plain": [
       "0.1"
      ]
     },
     "execution_count": 9,
     "metadata": {},
     "output_type": "execute_result"
    }
   ],
   "source": [
    "'''\n",
    "ex: what is the probability that a forest in its oldest state\n",
    " will burn down, if we wait?\n",
    "'''\n",
    "P[0][2][0] # 0.1"
   ]
  },
  {
   "attachments": {},
   "cell_type": "markdown",
   "metadata": {},
   "source": [
    "Exploring the rewards matrix. Rewards matrix has shape S x A (S,A). "
   ]
  },
  {
   "cell_type": "code",
   "execution_count": 10,
   "metadata": {},
   "outputs": [
    {
     "data": {
      "text/plain": [
       "array([[0., 0.],\n",
       "       [0., 1.],\n",
       "       [4., 2.]])"
      ]
     },
     "execution_count": 10,
     "metadata": {},
     "output_type": "execute_result"
    }
   ],
   "source": [
    "R"
   ]
  },
  {
   "cell_type": "code",
   "execution_count": 13,
   "metadata": {},
   "outputs": [
    {
     "data": {
      "text/plain": [
       "11.0"
      ]
     },
     "execution_count": 13,
     "metadata": {},
     "output_type": "execute_result"
    }
   ],
   "source": [
    "# what reward do we get if we choose to wait, and the forest is in its oldest state?\n",
    "def compute_reward(action, states):\n",
    "    return np.sum(np.multiply(R.T[action], states))\n",
    "\n",
    "compute_reward(1, [10, 5, 3])"
   ]
  },
  {
   "attachments": {},
   "cell_type": "markdown",
   "metadata": {},
   "source": [
    "## Finding the optimal \"policy\""
   ]
  },
  {
   "cell_type": "code",
   "execution_count": 14,
   "metadata": {},
   "outputs": [],
   "source": [
    "# 99% discount says that it is very likely \n",
    "# that the scenario will continue into the future (long-term strategy)\n",
    "model = mdptoolbox.mdp.PolicyIteration(P, R, 0.99)"
   ]
  },
  {
   "cell_type": "code",
   "execution_count": 15,
   "metadata": {},
   "outputs": [],
   "source": [
    "model.run()"
   ]
  },
  {
   "cell_type": "code",
   "execution_count": 16,
   "metadata": {},
   "outputs": [
    {
     "data": {
      "text/plain": [
       "(0, 0, 0)"
      ]
     },
     "execution_count": 16,
     "metadata": {},
     "output_type": "execute_result"
    }
   ],
   "source": [
    "model.policy"
   ]
  },
  {
   "attachments": {},
   "cell_type": "markdown",
   "metadata": {},
   "source": [
    "## applying a discount to our model.\n",
    "\n",
    "(what is a discount?)"
   ]
  },
  {
   "cell_type": "code",
   "execution_count": 17,
   "metadata": {},
   "outputs": [],
   "source": [
    "# 1% discount says that it is very unlikely \n",
    "# that the scenario will continue into the future (short-term strategy)\n",
    "model = mdptoolbox.mdp.PolicyIteration(P, R, 0.01)"
   ]
  },
  {
   "cell_type": "code",
   "execution_count": 18,
   "metadata": {},
   "outputs": [],
   "source": [
    "model.run()"
   ]
  },
  {
   "cell_type": "code",
   "execution_count": 19,
   "metadata": {},
   "outputs": [
    {
     "data": {
      "text/plain": [
       "(0, 1, 0)"
      ]
     },
     "execution_count": 19,
     "metadata": {},
     "output_type": "execute_result"
    }
   ],
   "source": [
    "model.policy"
   ]
  },
  {
   "cell_type": "code",
   "execution_count": null,
   "metadata": {},
   "outputs": [],
   "source": []
  },
  {
   "cell_type": "code",
   "execution_count": null,
   "metadata": {},
   "outputs": [],
   "source": []
  },
  {
   "cell_type": "code",
   "execution_count": null,
   "metadata": {},
   "outputs": [],
   "source": []
  }
 ],
 "metadata": {
  "kernelspec": {
   "display_name": "base",
   "language": "python",
   "name": "python3"
  },
  "language_info": {
   "codemirror_mode": {
    "name": "ipython",
    "version": 3
   },
   "file_extension": ".py",
   "mimetype": "text/x-python",
   "name": "python",
   "nbconvert_exporter": "python",
   "pygments_lexer": "ipython3",
   "version": "3.10.8"
  },
  "orig_nbformat": 4
 },
 "nbformat": 4,
 "nbformat_minor": 2
}
